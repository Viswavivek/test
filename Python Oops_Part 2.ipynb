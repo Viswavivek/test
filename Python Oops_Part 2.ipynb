{
 "cells": [
  {
   "cell_type": "code",
   "execution_count": 30,
   "id": "0ee85f03",
   "metadata": {},
   "outputs": [],
   "source": [
    "class Employee:\n",
    "    \n",
    "    inc_per=1.05\n",
    "    num_emp=0\n",
    "    \n",
    "    def __init__(self,first,last,pay):\n",
    "        self.first=first\n",
    "        self.last=last\n",
    "        self.pay=pay\n",
    "\n",
    "\n",
    "    \n",
    "    def full_name(self):\n",
    "        return '{} | {}'.format(self.first,self.last)\n",
    "    \n",
    "    def raise_sal(self):\n",
    "        return self.pay * self.inc_per\n",
    "    \n",
    "    @classmethod\n",
    "    def raise_amt(cls,amt):\n",
    "        cls.amt=amt\n",
    "\n",
    "    @classmethod\n",
    "    def from_string(cls, emp_str):\n",
    "        first, last, pay = emp_str.split('-')\n",
    "        return cls(first, last, pay)\n",
    "    \n",
    "    @staticmethod\n",
    "    def is_workday(day):\n",
    "        if day.weekday()==5 or day.weekday()==6:\n",
    "            return False\n",
    "        return True\n",
    "        "
   ]
  },
  {
   "cell_type": "code",
   "execution_count": 31,
   "id": "3898c03f",
   "metadata": {},
   "outputs": [],
   "source": [
    "emp1=Employee(\"Sai\",\"Ram\",200000)\n",
    "emp2=Employee(\"Vivek\",\"t\",4000000)\n",
    "emp3=Employee(\"Kalesh\",\"z\",4000000)"
   ]
  },
  {
   "cell_type": "code",
   "execution_count": 3,
   "id": "f4968dae",
   "metadata": {},
   "outputs": [],
   "source": [
    "Employee.raise_amt(1.08)"
   ]
  },
  {
   "cell_type": "code",
   "execution_count": 10,
   "id": "a5aa712a",
   "metadata": {},
   "outputs": [
    {
     "name": "stdout",
     "output_type": "stream",
     "text": [
      "1.05\n",
      "1.05\n",
      "1.05\n",
      "1.05\n"
     ]
    }
   ],
   "source": [
    "print(Employee.amt)\n",
    "print(emp1.amt)\n",
    "print(emp2.amt)\n",
    "print(emp3.amt)"
   ]
  },
  {
   "cell_type": "code",
   "execution_count": 8,
   "id": "5230551c",
   "metadata": {},
   "outputs": [],
   "source": [
    "emp1.raise_amt(1.05)"
   ]
  },
  {
   "cell_type": "code",
   "execution_count": 20,
   "id": "c65a97f6",
   "metadata": {},
   "outputs": [],
   "source": [
    "emp5=Employee.from_string(emp_str_1)"
   ]
  },
  {
   "cell_type": "code",
   "execution_count": 22,
   "id": "3be685fa",
   "metadata": {},
   "outputs": [
    {
     "data": {
      "text/plain": [
       "'70000'"
      ]
     },
     "execution_count": 22,
     "metadata": {},
     "output_type": "execute_result"
    }
   ],
   "source": [
    "emp5.pay"
   ]
  },
  {
   "cell_type": "code",
   "execution_count": 12,
   "id": "db17da58",
   "metadata": {},
   "outputs": [],
   "source": [
    "emp_str_1 = 'John-Doe-70000'\n",
    "emp_str_2 = 'Steve-Smith-30000'\n",
    "emp_str_3 = 'Jane-Doe-90000'"
   ]
  },
  {
   "cell_type": "code",
   "execution_count": 15,
   "id": "ce33d48e",
   "metadata": {},
   "outputs": [],
   "source": [
    "first, last, pay = emp_str_1.split('-')"
   ]
  },
  {
   "cell_type": "code",
   "execution_count": 17,
   "id": "22c78dd1",
   "metadata": {},
   "outputs": [],
   "source": [
    "emp5=Employee(first, last, pay)"
   ]
  },
  {
   "cell_type": "code",
   "execution_count": null,
   "id": "3e1b89b6",
   "metadata": {},
   "outputs": [],
   "source": [
    "# Static"
   ]
  },
  {
   "cell_type": "code",
   "execution_count": 35,
   "id": "7cb73a25",
   "metadata": {},
   "outputs": [],
   "source": [
    "import datetime\n",
    "day=datetime.date(2024,2,12)"
   ]
  },
  {
   "cell_type": "code",
   "execution_count": 36,
   "id": "6bc0e783",
   "metadata": {},
   "outputs": [
    {
     "data": {
      "text/plain": [
       "True"
      ]
     },
     "execution_count": 36,
     "metadata": {},
     "output_type": "execute_result"
    }
   ],
   "source": [
    "emp1.is_workday(day)"
   ]
  }
 ],
 "metadata": {
  "kernelspec": {
   "display_name": "Python 3 (ipykernel)",
   "language": "python",
   "name": "python3"
  },
  "language_info": {
   "codemirror_mode": {
    "name": "ipython",
    "version": 3
   },
   "file_extension": ".py",
   "mimetype": "text/x-python",
   "name": "python",
   "nbconvert_exporter": "python",
   "pygments_lexer": "ipython3",
   "version": "3.10.9"
  }
 },
 "nbformat": 4,
 "nbformat_minor": 5
}
